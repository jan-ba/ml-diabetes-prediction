{
 "cells": [
  {
   "cell_type": "code",
   "execution_count": 29,
   "metadata": {},
   "outputs": [],
   "source": [
    "import pandas as pd\n",
    "from sklearn.model_selection import train_test_split\n",
    "\n",
    "# one hot encoding\n",
    "# check if we have cyclical values\n",
    "# Check scaling\n",
    "# Check features that are correlated\n",
    "# Pycaret for choosing the best models, pick top 5 and then tune their hyperparameters. \n",
    "\n",
    "# hyperparameter-tuning: random? bayesian optimisation? grid-search takes a lot of time but is precise\n",
    "    # Optuna\n",
    "    # Hyper-opt\n",
    "\n",
    "df = pd.read_csv(\"diabetes_data.csv\")\n",
    "data = df.drop(\"Diabetes\", axis=1)\n",
    "target = df[\"Diabetes\"]\n",
    "\n",
    "X_train, X_test, y_train, y_test = train_test_split(data, target, test_size=0.2)\n"
   ]
  }
 ],
 "metadata": {
  "kernelspec": {
   "display_name": "ML_RU",
   "language": "python",
   "name": "python3"
  },
  "language_info": {
   "codemirror_mode": {
    "name": "ipython",
    "version": 3
   },
   "file_extension": ".py",
   "mimetype": "text/x-python",
   "name": "python",
   "nbconvert_exporter": "python",
   "pygments_lexer": "ipython3",
   "version": "3.12.5"
  }
 },
 "nbformat": 4,
 "nbformat_minor": 2
}
